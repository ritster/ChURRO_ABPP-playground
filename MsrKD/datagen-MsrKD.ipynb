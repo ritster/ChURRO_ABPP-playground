{
 "cells": [
  {
   "cell_type": "markdown",
   "metadata": {},
   "source": [
    "## Imports"
   ]
  },
  {
   "cell_type": "code",
   "execution_count": 1,
   "metadata": {},
   "outputs": [],
   "source": [
    "# General imports \n",
    "import pandas as pd\n",
    "import numpy as np\n",
    "import os\n",
    "from tqdm import tqdm\n",
    "import requests as r\n",
    "from Bio import SeqIO\n",
    "from io import StringIO\n",
    "import warnings\n",
    "\n",
    "warnings.filterwarnings('ignore')\n",
    "\n",
    "# Import structuremap functions\n",
    "import structuremap.utils\n",
    "from structuremap.processing import download_alphafold_cif, download_alphafold_pae, format_alphafold_data, annotate_accessibility, get_smooth_score\n",
    "\n",
    "structuremap.utils.set_logger()"
   ]
  },
  {
   "cell_type": "markdown",
   "metadata": {},
   "source": [
    "## Set Parameters of Analysis"
   ]
  },
  {
   "cell_type": "code",
   "execution_count": 2,
   "metadata": {},
   "outputs": [],
   "source": [
    "# Set parameters of analysis\n",
    "\n",
    "analysis_threshold = 20 # number of amino acids either side to analyze\n",
    "\n",
    "modifications = [\"649.3660\", \"655.3735\"] # which modifications we are looking for, as regex strings\n",
    "heavy_modification = \"655.3735\"\n",
    "light_modification = \"649.3660\""
   ]
  },
  {
   "cell_type": "markdown",
   "metadata": {},
   "source": [
    "## Load Dataset - MsrAKD"
   ]
  },
  {
   "cell_type": "code",
   "execution_count": 3,
   "metadata": {},
   "outputs": [
    {
     "name": "stdout",
     "output_type": "stream",
     "text": [
      "Current Directory: /Users/ritwiksrinivas/Desktop/Projects/ChULO_ABPP-playground/MsrKD\n",
      "Global Data Directory: /Users/ritwiksrinivas/Desktop/Projects/ChULO_ABPP-playground/global_data\n"
     ]
    }
   ],
   "source": [
    "# Set correct pathing\n",
    "\n",
    "curr_dir_path_str = \"./\"\n",
    "curr_dir_path = os.path.abspath(curr_dir_path_str)\n",
    "\n",
    "global_data_path_str = \"../global_data\"\n",
    "global_data_path = os.path.abspath(global_data_path_str)\n",
    "\n",
    "print(\"Current Directory: \" + curr_dir_path)\n",
    "print(\"Global Data Directory: \" + global_data_path)"
   ]
  },
  {
   "cell_type": "code",
   "execution_count": 4,
   "metadata": {},
   "outputs": [],
   "source": [
    "# Load initial dataset\n",
    "data_loc = os.path.join(curr_dir_path, \"05_10_24_293T_MsrKD_data.xlsx\")\n",
    "peptides = pd.read_excel(data_loc, sheet_name=\"293T_MsrAKD_quant\")\n",
    "peptides;"
   ]
  },
  {
   "cell_type": "code",
   "execution_count": 5,
   "metadata": {},
   "outputs": [],
   "source": [
    "# Canonicalize data - none to do here\n",
    "peptides;"
   ]
  },
  {
   "cell_type": "code",
   "execution_count": null,
   "metadata": {},
   "outputs": [],
   "source": [
    "# Manual labeling of peptides\n",
    "label_col_data = [\"blue\"] * 157 + [\"green\"] * 381 + [\"white\"] * 9 + [\"red\"] * 12 + [\"gray\"] * 104\n",
    "label_col = pd.Series(label_col_data)\n",
    "peptides[\"Color\"] = label_col\n",
    "\n",
    "#pd.set_option(\"display.max_rows\", None)\n",
    "#display(peptides)\n",
    "#pd.reset_option(\"display.max_rows\")\n",
    "peptides;"
   ]
  },
  {
   "cell_type": "code",
   "execution_count": null,
   "metadata": {},
   "outputs": [],
   "source": [
    "unique_uniprotIDs = peptides[\"Protein ID\"].unique()\n",
    "print(\"Unique UniProt IDs: \\n\" + str(unique_uniprotIDs))\n",
    "print(\"Number of Unique UniProt IDs: \" + str(unique_uniprotIDs.size))"
   ]
  },
  {
   "cell_type": "code",
   "execution_count": null,
   "metadata": {},
   "outputs": [],
   "source": [
    "# Helper function to get full amino acid sequence for a protein\n",
    "def get_complete_sequence(cID):\n",
    "    baseUrl=\"http://www.uniprot.org/uniprot/\"\n",
    "    currentUrl=baseUrl+cID+\".fasta\"\n",
    "    response = r.post(currentUrl)\n",
    "    cData=''.join(response.text)\n",
    "    \n",
    "    Seq=StringIO(cData)\n",
    "    pSeq=list(SeqIO.parse(Seq,\"fasta\"))\n",
    "\n",
    "    return str(pSeq[0].seq)"
   ]
  },
  {
   "cell_type": "code",
   "execution_count": null,
   "metadata": {},
   "outputs": [],
   "source": [
    "# Load and update sequence cache df: mapping from UniProt IDs to complete AA sequence\n",
    "# SLOW - ONLY DO THIS ONCE - CONVERT TO CSV FILE, THEN RE-LOAD FROM THAT FILE\n",
    "\n",
    "path = os.path.join(global_data_path, \"complete_sequence_cache.csv\")\n",
    "sequence_cache_df = pd.read_csv(path)\n",
    "sequence_cache_df.set_index(\"Unnamed: 0\", inplace=True)\n",
    "sequence_cache_df.index.name = None\n",
    "display(sequence_cache_df)\n",
    "\n",
    "# Determine unknown sequences\n",
    "\n",
    "unknown_uniprotIDs_idxs = ~np.isin(unique_uniprotIDs, sequence_cache_df[\"Protein ID\"].values)\n",
    "unknown_uniprotIDs = unique_uniprotIDs[unknown_uniprotIDs_idxs]\n",
    "unknown_sequences_df = pd.DataFrame({\"Protein ID\": unknown_uniprotIDs})\n",
    "display(unknown_sequences_df)\n",
    "\n",
    "# Retrieve unknown sequences\n",
    "\n",
    "tqdm.pandas()\n",
    "unknown_sequences_df[\"Complete Sequence\"] = unknown_sequences_df[\"Protein ID\"].progress_apply(get_complete_sequence)\n",
    "display(unknown_sequences_df)\n",
    "\n",
    "sequence_cache_df_updated = pd.concat([sequence_cache_df, unknown_sequences_df])\n",
    "sequence_cache_df_updated.to_csv(os.path.join(global_data_path, \"complete_sequence_cache.csv\"))\n",
    "sequence_cache_df_updated;"
   ]
  },
  {
   "cell_type": "code",
   "execution_count": null,
   "metadata": {},
   "outputs": [],
   "source": [
    "# Load cache df: mapping from UniProt IDs to complete AA sequence\n",
    "path = os.path.join(global_data_path, \"complete_sequence_cache.csv\")\n",
    "sequence_cache_df_updated = pd.read_csv(path)\n",
    "sequence_cache_df_updated.set_index(\"Unnamed: 0\", inplace=True)\n",
    "sequence_cache_df_updated.index.name = None\n",
    "sequence_cache_df_updated;"
   ]
  },
  {
   "cell_type": "code",
   "execution_count": null,
   "metadata": {},
   "outputs": [],
   "source": [
    "peptides_cs = peptides.merge(sequence_cache_df_updated, how=\"left\", on=\"Protein ID\")\n",
    "peptides_cs # cs means \"complete sequence\""
   ]
  },
  {
   "cell_type": "code",
   "execution_count": null,
   "metadata": {},
   "outputs": [],
   "source": [
    "# Create regex pattern to identify desired modifications\n",
    "def create_modifications_pattern(modifications):\n",
    "\n",
    "    whole, mantissa = modifications[0].split(\".\")\n",
    "    pattern = r\"M\\[{}\\.{}\\]\".format(whole, mantissa)\n",
    "\n",
    "    for i in range(1, len(modifications)):\n",
    "        whole, mantissa = modifications[i].split(\".\")\n",
    "        pattern += r\"|M\\[{}\\.{}\\]\".format(whole, mantissa)\n",
    "    \n",
    "    return pattern\n",
    "\n",
    "modifications_pattern = create_modifications_pattern(modifications)\n",
    "print(modifications_pattern)"
   ]
  },
  {
   "cell_type": "code",
   "execution_count": null,
   "metadata": {},
   "outputs": [],
   "source": [
    "# extract left prefix of modified methionine (for indexing purposes)\n",
    "IUPACCodes = \"ACDEFGHIKLMNPQRSTVWY\"\n",
    "filtering = lambda string: ''.join([char for char in string if char in IUPACCodes])\n",
    "\n",
    "peptides_completed_sequence[\"Peptide Sequence\"] = peptides_completed_sequence[\"Light Modified Peptide\"].map(filtering)\n",
    "peptides_completed_sequence"
   ]
  },
  {
   "cell_type": "code",
   "execution_count": null,
   "metadata": {},
   "outputs": [],
   "source": [
    "peptides_completed_sequence[\"Sequence Location\"] = pd.Series([a.find(b) for a, b in zip(peptides_completed_sequence[\"Complete Sequence\"], peptides_completed_sequence[\"Peptide Sequence\"])])\n",
    "peptides_completed_sequence"
   ]
  },
  {
   "cell_type": "code",
   "execution_count": null,
   "metadata": {},
   "outputs": [],
   "source": [
    "peptides_completed_sequence[\"Sequence Length\"] = peptides_completed_sequence[\"Peptide Sequence\"].str.len()\n",
    "peptides_completed_sequence"
   ]
  },
  {
   "cell_type": "code",
   "execution_count": null,
   "metadata": {},
   "outputs": [],
   "source": [
    "# sanity check - ensure sequence indexing is correct\n",
    "temp = [A[B:B+C] for A, B, C in zip(peptides_completed_sequence[\"Complete Sequence\"], peptides_completed_sequence[\"Sequence Location\"], peptides_completed_sequence[\"Sequence Length\"])]\n",
    "(temp == peptides_completed_sequence[\"Peptide Sequence\"]).value_counts()"
   ]
  },
  {
   "cell_type": "code",
   "execution_count": null,
   "metadata": {},
   "outputs": [],
   "source": [
    "# create regex pattern to identify desired modifications\n",
    "left_prefix_pattern = \"(.*)(\" + modifications_pattern + \")\"\n",
    "print(left_prefix_pattern)"
   ]
  },
  {
   "cell_type": "code",
   "execution_count": null,
   "metadata": {},
   "outputs": [],
   "source": [
    "# extract left prefix of modified methionine (for indexing purposes)\n",
    "IUPACCodes = \"ACDEFGHIKLMNPQRSTVWY\"\n",
    "filtering = lambda string: ''.join([char for char in string if char in IUPACCodes])\n",
    "\n",
    "peptides_completed_sequence[\"Left Prefix\"] = peptides_completed_sequence[\"Light Modified Peptide\"].str.extract(left_prefix_pattern)[0]\n",
    "peptides_completed_sequence[\"Left Prefix\"] = peptides_completed_sequence[\"Left Prefix\"].map(filtering)\n",
    "peptides_completed_sequence[\"Left Prefix Length\"] = peptides_completed_sequence[\"Left Prefix\"].str.len()\n",
    "\n",
    "peptides_completed_sequence"
   ]
  },
  {
   "cell_type": "code",
   "execution_count": null,
   "metadata": {},
   "outputs": [],
   "source": [
    "peptides_completed_sequence[\"Methionine Location\"] = peptides_completed_sequence[\"Sequence Location\"] + peptides_completed_sequence[\"Left Prefix Length\"]\n",
    "peptides_completed_sequence"
   ]
  },
  {
   "cell_type": "code",
   "execution_count": null,
   "metadata": {},
   "outputs": [],
   "source": [
    "# Compute left/right analysis sequences based on threshold\n",
    "peptides_completed_sequence[f\"Left {analysis_threshold}\"] = [A[B-analysis_threshold:B]  if (B - analysis_threshold >= 0) else A[0:B-1] for A, B in zip(peptides_completed_sequence[\"Complete Sequence\"], peptides_completed_sequence[\"Methionine Location\"])]\n",
    "peptides_completed_sequence[f\"Right {analysis_threshold}\"] = [A[B+1:B+1+analysis_threshold] for A, B in zip(peptides_completed_sequence[\"Complete Sequence\"], peptides_completed_sequence[\"Methionine Location\"])]\n",
    "peptides_completed_sequence"
   ]
  },
  {
   "cell_type": "code",
   "execution_count": null,
   "metadata": {},
   "outputs": [],
   "source": [
    "pd.set_option('display.max_columns', None)\n",
    "display(peptides_completed_sequence[~(peptides_completed_sequence[\"Site Number\"] == peptides_completed_sequence[\"Methionine Location\"] + 1)])\n",
    "pd.reset_option('display.max_columns')"
   ]
  },
  {
   "cell_type": "code",
   "execution_count": null,
   "metadata": {},
   "outputs": [],
   "source": [
    "# remove invalid proteins (according to alphafold) - TODO: attempt to incorporate these as well\n",
    "# 7 invalid peptides as a result -> 2 blue, 4 green, 1 gray\n",
    "invalid_IDs = ['Q09666', 'Q14204', 'Q9Y520', 'Q14789']\n",
    "peptides_completed_sequence = peptides_completed_sequence[~peptides_completed_sequence[\"Protein ID\"].isin(invalid_IDs)]\n",
    "peptides_completed_sequence"
   ]
  },
  {
   "cell_type": "markdown",
   "metadata": {},
   "source": [
    "# Download Alphafold Data - MsrAKD"
   ]
  },
  {
   "cell_type": "code",
   "execution_count": null,
   "metadata": {},
   "outputs": [],
   "source": [
    "# path for alphafold protein data\n",
    "alphafold_path_str = \"../alphafold_data/\"\n",
    "alphafold_path = os.path.abspath(alphafold_path_str)\n",
    "\n",
    "cif_dir = os.path.join(alphafold_path, \"cif\")\n",
    "pae_dir = os.path.join(alphafold_path, \"pae\")\n",
    "\n",
    "print(alphafold_path)\n",
    "print(cif_dir)\n",
    "print(pae_dir)"
   ]
  },
  {
   "cell_type": "code",
   "execution_count": null,
   "metadata": {},
   "outputs": [],
   "source": [
    "# set uniprot IDs to use\n",
    "uniprotIDs = peptides_completed_sequence[\"Protein ID\"].unique()\n",
    "uniprotIDs, len(uniprotIDs)"
   ]
  },
  {
   "cell_type": "code",
   "execution_count": null,
   "metadata": {},
   "outputs": [],
   "source": [
    "# download cif data for proteins\n",
    "# SLOW THE FIRST TIME\n",
    "valid_proteins_cif, invalid_proteins_cif, existing_proteins_cif = download_alphafold_cif(\n",
    "    proteins=uniprotIDs,\n",
    "    out_folder=cif_dir\n",
    ")"
   ]
  },
  {
   "cell_type": "code",
   "execution_count": null,
   "metadata": {},
   "outputs": [],
   "source": [
    "# download pae data for proteins\n",
    "# SLOW THE FIRST TIME\n",
    "valid_proteins_pae, invalid_proteins_pae, existing_proteins_pae = download_alphafold_pae(\n",
    "    proteins=uniprotIDs,\n",
    "    out_folder=pae_dir, \n",
    ")"
   ]
  },
  {
   "cell_type": "markdown",
   "metadata": {},
   "source": [
    "## Construct Alphafold Dataframe (Calculate Accessibilities) - MsrAKD"
   ]
  },
  {
   "cell_type": "code",
   "execution_count": null,
   "metadata": {},
   "outputs": [],
   "source": [
    "# format alphafold data into dataframe\n",
    "alphafold_annotation_MsrAKD = format_alphafold_data(\n",
    "    directory=cif_dir, \n",
    "    protein_ids=uniprotIDs)\n",
    "alphafold_annotation_MsrAKD"
   ]
  },
  {
   "cell_type": "code",
   "execution_count": null,
   "metadata": {},
   "outputs": [],
   "source": [
    "# calculate full sphere exposure -> radius = 2\n",
    "exposure_sphere_rad2 = annotate_accessibility(\n",
    "    df=alphafold_annotation_MsrAKD, \n",
    "    max_dist=2, \n",
    "    max_angle=180, \n",
    "    error_dir=pae_dir)\n",
    "exposure_sphere_rad2;"
   ]
  },
  {
   "cell_type": "code",
   "execution_count": null,
   "metadata": {},
   "outputs": [],
   "source": [
    "alphafold_accessibility_MsrAKD = alphafold_annotation_MsrAKD.merge(\n",
    "    exposure_sphere_rad2, how='left', on=['protein_id','AA','position'])\n",
    "alphafold_accessibility_MsrAKD;"
   ]
  },
  {
   "cell_type": "code",
   "execution_count": null,
   "metadata": {},
   "outputs": [],
   "source": [
    "# calculate full sphere exposure -> radius = 3\n",
    "exposure_sphere_rad3 = annotate_accessibility(\n",
    "    df=alphafold_annotation_MsrAKD, \n",
    "    max_dist=3, \n",
    "    max_angle=180, \n",
    "    error_dir=pae_dir)\n",
    "exposure_sphere_rad3;"
   ]
  },
  {
   "cell_type": "code",
   "execution_count": null,
   "metadata": {},
   "outputs": [],
   "source": [
    "alphafold_accessibility_MsrAKD = alphafold_accessibility_MsrAKD.merge(\n",
    "    exposure_sphere_rad3, how='left', on=['protein_id','AA','position'])\n",
    "alphafold_accessibility_MsrAKD;"
   ]
  },
  {
   "cell_type": "code",
   "execution_count": null,
   "metadata": {},
   "outputs": [],
   "source": [
    "# calculate full sphere exposure -> radius = 4\n",
    "exposure_sphere_rad4 = annotate_accessibility(\n",
    "    df=alphafold_annotation_MsrAKD, \n",
    "    max_dist=4, \n",
    "    max_angle=180, \n",
    "    error_dir=pae_dir)\n",
    "exposure_sphere_rad4;"
   ]
  },
  {
   "cell_type": "code",
   "execution_count": null,
   "metadata": {},
   "outputs": [],
   "source": [
    "alphafold_accessibility_MsrAKD = alphafold_accessibility_MsrAKD.merge(\n",
    "    exposure_sphere_rad4, how='left', on=['protein_id','AA','position'])\n",
    "alphafold_accessibility_MsrAKD;"
   ]
  },
  {
   "cell_type": "code",
   "execution_count": null,
   "metadata": {},
   "outputs": [],
   "source": [
    "# calculate full sphere exposure -> radius = 4.5\n",
    "exposure_sphere_rad4_5 = annotate_accessibility(\n",
    "    df=alphafold_annotation_MsrAKD, \n",
    "    max_dist=4.5, \n",
    "    max_angle=180, \n",
    "    error_dir=pae_dir)\n",
    "exposure_sphere_rad4_5;"
   ]
  },
  {
   "cell_type": "code",
   "execution_count": null,
   "metadata": {},
   "outputs": [],
   "source": [
    "alphafold_accessibility_MsrAKD = alphafold_accessibility_MsrAKD.merge(\n",
    "    exposure_sphere_rad4_5, how='left', on=['protein_id','AA','position'])\n",
    "alphafold_accessibility_MsrAKD;"
   ]
  },
  {
   "cell_type": "code",
   "execution_count": null,
   "metadata": {},
   "outputs": [],
   "source": [
    "# calculate full sphere exposure -> radius = 5\n",
    "exposure_sphere_rad5 = annotate_accessibility(\n",
    "    df=alphafold_annotation_MsrAKD, \n",
    "    max_dist=5, \n",
    "    max_angle=180, \n",
    "    error_dir=pae_dir)\n",
    "exposure_sphere_rad5;"
   ]
  },
  {
   "cell_type": "code",
   "execution_count": null,
   "metadata": {},
   "outputs": [],
   "source": [
    "alphafold_accessibility_MsrAKD = alphafold_accessibility_MsrAKD.merge(\n",
    "    exposure_sphere_rad5, how='left', on=['protein_id','AA','position'])\n",
    "alphafold_accessibility_MsrAKD;"
   ]
  },
  {
   "cell_type": "code",
   "execution_count": null,
   "metadata": {},
   "outputs": [],
   "source": [
    "# calculate full sphere exposure -> radius = 5.5\n",
    "exposure_sphere_rad5_5 = annotate_accessibility(\n",
    "    df=alphafold_annotation_MsrAKD, \n",
    "    max_dist=5.5, \n",
    "    max_angle=180, \n",
    "    error_dir=pae_dir)\n",
    "exposure_sphere_rad5_5;"
   ]
  },
  {
   "cell_type": "code",
   "execution_count": null,
   "metadata": {},
   "outputs": [],
   "source": [
    "alphafold_accessibility_MsrAKD = alphafold_accessibility_MsrAKD.merge(\n",
    "    exposure_sphere_rad5_5, how='left', on=['protein_id','AA','position'])\n",
    "alphafold_accessibility_MsrAKD;"
   ]
  },
  {
   "cell_type": "code",
   "execution_count": null,
   "metadata": {},
   "outputs": [],
   "source": [
    "# calculate full sphere exposure -> radius = 6\n",
    "exposure_sphere_rad6 = annotate_accessibility(\n",
    "    df=alphafold_annotation_MsrAKD, \n",
    "    max_dist=6, \n",
    "    max_angle=180, \n",
    "    error_dir=pae_dir)\n",
    "exposure_sphere_rad6;"
   ]
  },
  {
   "cell_type": "code",
   "execution_count": null,
   "metadata": {},
   "outputs": [],
   "source": [
    "alphafold_accessibility_MsrAKD = alphafold_accessibility_MsrAKD.merge(\n",
    "    exposure_sphere_rad6, how='left', on=['protein_id','AA','position'])\n",
    "alphafold_accessibility_MsrAKD;"
   ]
  },
  {
   "cell_type": "code",
   "execution_count": null,
   "metadata": {},
   "outputs": [],
   "source": [
    "# calculate full sphere exposure -> radius = 6.5\n",
    "exposure_sphere_rad6_5 = annotate_accessibility(\n",
    "    df=alphafold_annotation_MsrAKD, \n",
    "    max_dist=6.5, \n",
    "    max_angle=180, \n",
    "    error_dir=pae_dir)\n",
    "exposure_sphere_rad6_5;"
   ]
  },
  {
   "cell_type": "code",
   "execution_count": null,
   "metadata": {},
   "outputs": [],
   "source": [
    "alphafold_accessibility_MsrAKD = alphafold_accessibility_MsrAKD.merge(\n",
    "    exposure_sphere_rad6_5, how='left', on=['protein_id','AA','position'])\n",
    "alphafold_accessibility_MsrAKD;"
   ]
  },
  {
   "cell_type": "code",
   "execution_count": null,
   "metadata": {},
   "outputs": [],
   "source": [
    "# calculate full sphere exposure -> radius = 7\n",
    "exposure_sphere_rad7 = annotate_accessibility(\n",
    "    df=alphafold_annotation_MsrAKD, \n",
    "    max_dist=7, \n",
    "    max_angle=180, \n",
    "    error_dir=pae_dir)\n",
    "exposure_sphere_rad7;"
   ]
  },
  {
   "cell_type": "code",
   "execution_count": null,
   "metadata": {},
   "outputs": [],
   "source": [
    "alphafold_accessibility_MsrAKD = alphafold_accessibility_MsrAKD.merge(\n",
    "    exposure_sphere_rad7, how='left', on=['protein_id','AA','position'])\n",
    "alphafold_accessibility_MsrAKD;"
   ]
  },
  {
   "cell_type": "code",
   "execution_count": null,
   "metadata": {},
   "outputs": [],
   "source": [
    "# calculate full sphere exposure -> radius = 7.5\n",
    "exposure_sphere_rad7_5 = annotate_accessibility(\n",
    "    df=alphafold_annotation_MsrAKD, \n",
    "    max_dist=7.5, \n",
    "    max_angle=180, \n",
    "    error_dir=pae_dir)\n",
    "exposure_sphere_rad7_5;"
   ]
  },
  {
   "cell_type": "code",
   "execution_count": null,
   "metadata": {},
   "outputs": [],
   "source": [
    "alphafold_accessibility_MsrAKD = alphafold_accessibility_MsrAKD.merge(\n",
    "    exposure_sphere_rad7_5, how='left', on=['protein_id','AA','position'])\n",
    "alphafold_accessibility_MsrAKD;"
   ]
  },
  {
   "cell_type": "code",
   "execution_count": null,
   "metadata": {},
   "outputs": [],
   "source": [
    "# calculate full sphere exposure -> radius = 8\n",
    "exposure_sphere_rad8 = annotate_accessibility(\n",
    "    df=alphafold_annotation_MsrAKD, \n",
    "    max_dist=8, \n",
    "    max_angle=180, \n",
    "    error_dir=pae_dir)\n",
    "exposure_sphere_rad8;"
   ]
  },
  {
   "cell_type": "code",
   "execution_count": null,
   "metadata": {},
   "outputs": [],
   "source": [
    "alphafold_accessibility_MsrAKD = alphafold_accessibility_MsrAKD.merge(\n",
    "    exposure_sphere_rad8, how='left', on=['protein_id','AA','position'])\n",
    "alphafold_accessibility_MsrAKD;"
   ]
  },
  {
   "cell_type": "code",
   "execution_count": null,
   "metadata": {},
   "outputs": [],
   "source": [
    "# calculate full sphere exposure -> radius = 12\n",
    "exposure_sphere_rad12 = annotate_accessibility(\n",
    "    df=alphafold_annotation_MsrAKD, \n",
    "    max_dist=12, \n",
    "    max_angle=180, \n",
    "    error_dir=pae_dir)\n",
    "exposure_sphere_rad12;"
   ]
  },
  {
   "cell_type": "code",
   "execution_count": null,
   "metadata": {},
   "outputs": [],
   "source": [
    "alphafold_accessibility_MsrAKD = alphafold_accessibility_MsrAKD.merge(\n",
    "    exposure_sphere_rad12, how='left', on=['protein_id','AA','position'])\n",
    "alphafold_accessibility_MsrAKD;"
   ]
  },
  {
   "cell_type": "code",
   "execution_count": null,
   "metadata": {},
   "outputs": [],
   "source": [
    "# calculate full sphere exposure -> radius = 18\n",
    "exposure_sphere_rad18 = annotate_accessibility(\n",
    "    df=alphafold_annotation_MsrAKD, \n",
    "    max_dist=18, \n",
    "    max_angle=180, \n",
    "    error_dir=pae_dir)\n",
    "exposure_sphere_rad18;"
   ]
  },
  {
   "cell_type": "code",
   "execution_count": null,
   "metadata": {},
   "outputs": [],
   "source": [
    "alphafold_accessibility_MsrAKD = alphafold_accessibility_MsrAKD.merge(\n",
    "    exposure_sphere_rad18, how='left', on=['protein_id','AA','position'])\n",
    "alphafold_accessibility_MsrAKD;"
   ]
  },
  {
   "cell_type": "code",
   "execution_count": null,
   "metadata": {},
   "outputs": [],
   "source": [
    "# calculate full sphere exposure -> radius = 24\n",
    "exposure_sphere_rad24 = annotate_accessibility(\n",
    "    df=alphafold_annotation_MsrAKD, \n",
    "    max_dist=24, \n",
    "    max_angle=180, \n",
    "    error_dir=pae_dir)\n",
    "exposure_sphere_rad24;"
   ]
  },
  {
   "cell_type": "code",
   "execution_count": null,
   "metadata": {},
   "outputs": [],
   "source": [
    "alphafold_accessibility_MsrAKD = alphafold_accessibility_MsrAKD.merge(\n",
    "    exposure_sphere_rad24, how='left', on=['protein_id','AA','position'])\n",
    "alphafold_accessibility_MsrAKD;"
   ]
  },
  {
   "cell_type": "code",
   "execution_count": null,
   "metadata": {},
   "outputs": [],
   "source": [
    "# calculate part sphere exposure -> angle = 70, radius = 12\n",
    "exposure_ang70_rad12 = annotate_accessibility(\n",
    "    df=alphafold_annotation_MsrAKD, \n",
    "    max_dist=12, \n",
    "    max_angle=70, \n",
    "    error_dir=pae_dir)\n",
    "exposure_ang70_rad12;"
   ]
  },
  {
   "cell_type": "code",
   "execution_count": null,
   "metadata": {},
   "outputs": [],
   "source": [
    "alphafold_accessibility_MsrAKD = alphafold_accessibility_MsrAKD.merge(\n",
    "    exposure_ang70_rad12, how='left', on=['protein_id','AA','position'])\n",
    "alphafold_accessibility_MsrAKD"
   ]
  },
  {
   "cell_type": "code",
   "execution_count": null,
   "metadata": {},
   "outputs": [],
   "source": [
    "alphafold_accessibility_MsrAKD.columns"
   ]
  },
  {
   "cell_type": "code",
   "execution_count": null,
   "metadata": {},
   "outputs": [],
   "source": [
    "alphafold_accessibility_MsrAKD_smooth = get_smooth_score(\n",
    "    alphafold_accessibility_MsrAKD, \n",
    "    np.array(['nAA_2_180_pae', 'nAA_3_180_pae', 'nAA_4_180_pae', 'nAA_4.5_180_pae', 'nAA_5_180_pae', 'nAA_5.5_180_pae', 'nAA_6_180_pae', 'nAA_6.5_180_pae', 'nAA_7_180_pae', 'nAA_7.5_180_pae', 'nAA_8_180_pae','nAA_12_180_pae', 'nAA_18_180_pae', 'nAA_24_180_pae', 'nAA_12_70_pae']), \n",
    "    [10])\n",
    "alphafold_accessibility_MsrAKD_smooth;"
   ]
  },
  {
   "cell_type": "code",
   "execution_count": null,
   "metadata": {},
   "outputs": [],
   "source": [
    "alphafold_accessibility_MsrAKD_smooth['IDR'] = np.where(\n",
    "    alphafold_accessibility_MsrAKD_smooth['nAA_24_180_pae_smooth10']<=34.27, 1, 0)\n",
    "alphafold_accessibility_MsrAKD_smooth"
   ]
  },
  {
   "cell_type": "code",
   "execution_count": null,
   "metadata": {},
   "outputs": [],
   "source": [
    "alphafold_accessibility_MsrAKD_smooth.columns"
   ]
  },
  {
   "cell_type": "markdown",
   "metadata": {},
   "source": [
    "# Merge Dataframes into Full Dataset (Includes Alphafold) - MsrAKD"
   ]
  },
  {
   "cell_type": "code",
   "execution_count": null,
   "metadata": {},
   "outputs": [],
   "source": [
    "alphafold_accessibility_MsrAKD_smooth[\"position\"] = alphafold_accessibility_MsrAKD_smooth[\"position\"] - 1 # zero-index the positions to match initial dataframe\n",
    "\n",
    "peptides_with_alphafold = peptides_completed_sequence.merge(\n",
    "    alphafold_accessibility_MsrAKD_smooth, \n",
    "    how=\"left\", \n",
    "    left_on=[\"Protein ID\", \"Methionine Location\"], \n",
    "    right_on=[\"protein_id\", \"position\"]\n",
    ")\n",
    "peptides_with_alphafold"
   ]
  },
  {
   "cell_type": "code",
   "execution_count": null,
   "metadata": {},
   "outputs": [],
   "source": [
    "#peptides_with_alphafold.to_csv(os.path.join(curr_dir_path, \"MsrAKD_with_alphafold.csv\"))"
   ]
  },
  {
   "cell_type": "code",
   "execution_count": null,
   "metadata": {},
   "outputs": [],
   "source": [
    "path = os.path.join(curr_dir_path, \"MsrAKD_with_alphafold.csv\")\n",
    "peptides_with_alphafold = pd.read_csv(path)\n",
    "peptides_with_alphafold.set_index(\"Unnamed: 0\", inplace=True)\n",
    "peptides_with_alphafold.index.name = None\n",
    "peptides_with_alphafold"
   ]
  },
  {
   "cell_type": "markdown",
   "metadata": {},
   "source": [
    "## Load Dataset - MsrB2KD"
   ]
  },
  {
   "cell_type": "code",
   "execution_count": null,
   "metadata": {},
   "outputs": [],
   "source": [
    "data_loc = os.path.join(curr_dir_path, \"05_10_24_293T_MsrKD_data.xlsx\")\n",
    "peptides = pd.read_excel(data_loc, sheet_name=\"293T_MsrB2KD_quant\")\n",
    "peptides"
   ]
  },
  {
   "cell_type": "code",
   "execution_count": null,
   "metadata": {},
   "outputs": [],
   "source": [
    "# Canonicalize data - none to do here\n",
    "peptides;"
   ]
  },
  {
   "cell_type": "code",
   "execution_count": null,
   "metadata": {},
   "outputs": [],
   "source": [
    "label_col_data = [\"blue\"] * 10 + [\"white\"] * 30 + [\"green\"] * 381 + [\"red\"] * 213 + [\"gray\"] * 120\n",
    "label_col = pd.Series(label_col_data)\n",
    "peptides[\"color\"] = label_col\n",
    "\n",
    "#pd.set_option(\"display.max_rows\", None)\n",
    "display(peptides)\n",
    "#pd.reset_option(\"display.max_rows\")"
   ]
  },
  {
   "cell_type": "code",
   "execution_count": null,
   "metadata": {},
   "outputs": [],
   "source": [
    "# helper function to get full amino acid sequence for a protein\n",
    "def get_full_protein_seq(cID):\n",
    "    baseUrl=\"http://www.uniprot.org/uniprot/\"\n",
    "    currentUrl=baseUrl+cID+\".fasta\"\n",
    "    response = r.post(currentUrl)\n",
    "    cData=''.join(response.text)\n",
    "    \n",
    "    Seq=StringIO(cData)\n",
    "    pSeq=list(SeqIO.parse(Seq,\"fasta\"))\n",
    "\n",
    "    return str(pSeq[0].seq)"
   ]
  },
  {
   "cell_type": "code",
   "execution_count": null,
   "metadata": {},
   "outputs": [],
   "source": [
    "# test - get a single amino acid sequence\n",
    "#first_protein_ID = peptides[\"Protein ID\"].iloc[0]\n",
    "#test_sequence = get_full_protein_seq(first_protein_ID)\n",
    "#print(test_sequence[575:587])\n",
    "#print(peptides[\"Peptide Sequence\"].iloc[0])"
   ]
  },
  {
   "cell_type": "code",
   "execution_count": null,
   "metadata": {},
   "outputs": [],
   "source": [
    "unique_uniprotIDs = peptides[\"Protein ID\"].unique()\n",
    "unique_uniprotIDs, unique_uniprotIDs.size;"
   ]
  },
  {
   "cell_type": "code",
   "execution_count": null,
   "metadata": {},
   "outputs": [],
   "source": [
    "# load known completed sequences\n",
    "path = os.path.join(global_data_path, \"uniprotID_to_complete_sequence_mapping.csv\")\n",
    "unique_IDs_to_sequence_df = pd.read_csv(path)\n",
    "unique_IDs_to_sequence_df.set_index(\"Unnamed: 0\", inplace=True)\n",
    "unique_IDs_to_sequence_df.index.name = None\n",
    "unique_IDs_to_sequence_df;"
   ]
  },
  {
   "cell_type": "code",
   "execution_count": null,
   "metadata": {},
   "outputs": [],
   "source": [
    "unknown_uniprotIDs_idxs = ~np.isin(unique_uniprotIDs, unique_IDs_to_sequence_df[\"Protein ID\"].values)\n",
    "np.unique(unknown_uniprotIDs_idxs, return_counts=True)"
   ]
  },
  {
   "cell_type": "code",
   "execution_count": null,
   "metadata": {},
   "outputs": [],
   "source": [
    "unknown_uniprotIDs = unique_uniprotIDs[unknown_uniprotIDs_idxs]\n",
    "unknown_uniprotIDs, len(unknown_uniprotIDs);"
   ]
  },
  {
   "cell_type": "code",
   "execution_count": null,
   "metadata": {},
   "outputs": [],
   "source": [
    "unknown_sequences_df = pd.DataFrame({\"Protein ID\": unknown_uniprotIDs})\n",
    "unknown_sequences_df;"
   ]
  },
  {
   "cell_type": "code",
   "execution_count": null,
   "metadata": {},
   "outputs": [],
   "source": [
    "# get whole amino acid sequences for unknown proteins\n",
    "# SLOW - ONLY DO THIS ONCE - CONVERT TO CSV FILE, THEN RE-LOAD FROM THAT FILE\n",
    "\n",
    "tqdm.pandas()\n",
    "unknown_sequences_df[\"Complete Sequence\"] = unknown_sequences_df[\"Protein ID\"].progress_apply(get_full_protein_seq)\n",
    "unknown_sequences_df"
   ]
  },
  {
   "cell_type": "code",
   "execution_count": null,
   "metadata": {},
   "outputs": [],
   "source": [
    "unique_IDs_to_sequence_df_updated = pd.concat([unique_IDs_to_sequence_df, unknown_sequences_df])\n",
    "unique_IDs_to_sequence_df_updated"
   ]
  },
  {
   "cell_type": "code",
   "execution_count": null,
   "metadata": {},
   "outputs": [],
   "source": [
    "#unique_IDs_to_sequence_df_updated.to_csv(os.path.join(global_data_path, \"uniprotID_to_complete_sequence_mapping.csv\"))"
   ]
  },
  {
   "cell_type": "code",
   "execution_count": null,
   "metadata": {},
   "outputs": [],
   "source": [
    "# load (updated) known completed sequences\n",
    "path = os.path.join(global_data_path, \"uniprotID_to_complete_sequence_mapping.csv\")\n",
    "unique_IDs_to_sequence_df = pd.read_csv(path)\n",
    "unique_IDs_to_sequence_df.set_index(\"Unnamed: 0\", inplace=True)\n",
    "unique_IDs_to_sequence_df.index.name = None\n",
    "unique_IDs_to_sequence_df"
   ]
  },
  {
   "cell_type": "code",
   "execution_count": null,
   "metadata": {},
   "outputs": [],
   "source": [
    "peptides_completed_sequence = peptides.merge(unique_IDs_to_sequence_df, how=\"left\", on=\"Protein ID\")\n",
    "peptides_completed_sequence.index = peptides.index\n",
    "peptides_completed_sequence"
   ]
  },
  {
   "cell_type": "code",
   "execution_count": null,
   "metadata": {},
   "outputs": [],
   "source": [
    "# create regex pattern to identify desired modifications\n",
    "def create_modifications_pattern(modifications):\n",
    "\n",
    "    split_mod = modifications[0].split(\".\")\n",
    "    whole = split_mod[0]\n",
    "    mantissa = split_mod[1]\n",
    "    pattern = r\"M\\[{}\\.{}\\]\".format(whole, mantissa)\n",
    "\n",
    "    for i in range(1, len(modifications)):\n",
    "        split_mod = modifications[i].split(\".\")\n",
    "        whole = split_mod[0]\n",
    "        mantissa = split_mod[1]\n",
    "        pattern += r\"|M\\[{}\\.{}\\]\".format(whole, mantissa)\n",
    "    \n",
    "    return pattern\n",
    "\n",
    "modifications_pattern = create_modifications_pattern(modifications)\n",
    "print(modifications_pattern)"
   ]
  },
  {
   "cell_type": "code",
   "execution_count": null,
   "metadata": {},
   "outputs": [],
   "source": [
    "# extract left prefix of modified methionine (for indexing purposes)\n",
    "IUPACCodes = \"ACDEFGHIKLMNPQRSTVWY\"\n",
    "filtering = lambda string: ''.join([char for char in string if char in IUPACCodes])\n",
    "\n",
    "peptides_completed_sequence[\"Peptide Sequence\"] = peptides_completed_sequence[\"Light Modified Peptide\"].map(filtering)\n",
    "peptides_completed_sequence"
   ]
  },
  {
   "cell_type": "code",
   "execution_count": null,
   "metadata": {},
   "outputs": [],
   "source": [
    "peptides_completed_sequence[\"Sequence Location\"] = pd.Series([a.find(b) for a, b in zip(peptides_completed_sequence[\"Complete Sequence\"], peptides_completed_sequence[\"Peptide Sequence\"])])\n",
    "peptides_completed_sequence"
   ]
  },
  {
   "cell_type": "code",
   "execution_count": null,
   "metadata": {},
   "outputs": [],
   "source": [
    "peptides_completed_sequence[\"Sequence Length\"] = peptides_completed_sequence[\"Peptide Sequence\"].str.len()\n",
    "peptides_completed_sequence"
   ]
  },
  {
   "cell_type": "code",
   "execution_count": null,
   "metadata": {},
   "outputs": [],
   "source": [
    "# sanity check - ensure sequence indexing is correct\n",
    "temp = [A[B:B+C] for A, B, C in zip(peptides_completed_sequence[\"Complete Sequence\"], peptides_completed_sequence[\"Sequence Location\"], peptides_completed_sequence[\"Sequence Length\"])]\n",
    "(temp == peptides_completed_sequence[\"Peptide Sequence\"]).value_counts()"
   ]
  },
  {
   "cell_type": "code",
   "execution_count": null,
   "metadata": {},
   "outputs": [],
   "source": [
    "# create regex pattern to identify desired modifications\n",
    "left_prefix_pattern = \"(.*)(\" + modifications_pattern + \")\"\n",
    "print(left_prefix_pattern)"
   ]
  },
  {
   "cell_type": "code",
   "execution_count": null,
   "metadata": {},
   "outputs": [],
   "source": [
    "# extract left prefix of modified methionine (for indexing purposes)\n",
    "IUPACCodes = \"ACDEFGHIKLMNPQRSTVWY\"\n",
    "filtering = lambda string: ''.join([char for char in string if char in IUPACCodes])\n",
    "\n",
    "peptides_completed_sequence[\"Left Prefix\"] = peptides_completed_sequence[\"Light Modified Peptide\"].str.extract(left_prefix_pattern)[0]\n",
    "peptides_completed_sequence[\"Left Prefix\"] = peptides_completed_sequence[\"Left Prefix\"].map(filtering)\n",
    "peptides_completed_sequence[\"Left Prefix Length\"] = peptides_completed_sequence[\"Left Prefix\"].str.len()\n",
    "\n",
    "peptides_completed_sequence"
   ]
  },
  {
   "cell_type": "code",
   "execution_count": null,
   "metadata": {},
   "outputs": [],
   "source": [
    "peptides_completed_sequence[\"Methionine Location\"] = peptides_completed_sequence[\"Sequence Location\"] + peptides_completed_sequence[\"Left Prefix Length\"]\n",
    "peptides_completed_sequence"
   ]
  },
  {
   "cell_type": "code",
   "execution_count": null,
   "metadata": {},
   "outputs": [],
   "source": [
    "# Compute left/right analysis sequences based on threshold\n",
    "peptides_completed_sequence[f\"Left {analysis_threshold}\"] = [A[B-analysis_threshold:B]  if (B - analysis_threshold >= 0) else A[0:B-1] for A, B in zip(peptides_completed_sequence[\"Complete Sequence\"], peptides_completed_sequence[\"Methionine Location\"])]\n",
    "peptides_completed_sequence[f\"Right {analysis_threshold}\"] = [A[B+1:B+1+analysis_threshold] for A, B in zip(peptides_completed_sequence[\"Complete Sequence\"], peptides_completed_sequence[\"Methionine Location\"])]\n",
    "peptides_completed_sequence"
   ]
  },
  {
   "cell_type": "code",
   "execution_count": null,
   "metadata": {},
   "outputs": [],
   "source": [
    "pd.set_option('display.max_columns', None)\n",
    "display(peptides_completed_sequence[~(peptides_completed_sequence[\"Site Number\"] == peptides_completed_sequence[\"Methionine Location\"] + 1)])\n",
    "pd.reset_option('display.max_columns')"
   ]
  },
  {
   "cell_type": "code",
   "execution_count": null,
   "metadata": {},
   "outputs": [],
   "source": [
    "# remove invalid proteins (according to alphafold) - TODO: attempt to incorporate these as well\n",
    "# 12 invalid peptides as a result -> 5 green, 4 red, 3 gray\n",
    "invalid_IDs = ['Q14204', 'Q09666', 'Q14789', 'Q9Y520', 'P46013', 'Q9NU22']\n",
    "peptides_completed_sequence = peptides_completed_sequence[~peptides_completed_sequence[\"Protein ID\"].isin(invalid_IDs)]\n",
    "peptides_completed_sequence"
   ]
  },
  {
   "cell_type": "markdown",
   "metadata": {},
   "source": [
    "# Download Alphafold Data - MsrB2KD"
   ]
  },
  {
   "cell_type": "code",
   "execution_count": null,
   "metadata": {},
   "outputs": [],
   "source": [
    "# path for alphafold protein data\n",
    "alphafold_path_str = \"../alphafold_data/\"\n",
    "alphafold_path = os.path.abspath(alphafold_path_str)\n",
    "\n",
    "cif_dir = os.path.join(alphafold_path, \"cif\")\n",
    "pae_dir = os.path.join(alphafold_path, \"pae\")\n",
    "\n",
    "print(alphafold_path)\n",
    "print(cif_dir)\n",
    "print(pae_dir)"
   ]
  },
  {
   "cell_type": "code",
   "execution_count": null,
   "metadata": {},
   "outputs": [],
   "source": [
    "# set uniprot IDs to use\n",
    "uniprotIDs = peptides_completed_sequence[\"Protein ID\"].unique()\n",
    "uniprotIDs, len(uniprotIDs)"
   ]
  },
  {
   "cell_type": "code",
   "execution_count": null,
   "metadata": {},
   "outputs": [],
   "source": [
    "# download cif data for proteins\n",
    "# SLOW THE FIRST TIME\n",
    "valid_proteins_cif, invalid_proteins_cif, existing_proteins_cif = download_alphafold_cif(\n",
    "    proteins=uniprotIDs,\n",
    "    out_folder=cif_dir\n",
    ")"
   ]
  },
  {
   "cell_type": "code",
   "execution_count": null,
   "metadata": {},
   "outputs": [],
   "source": [
    "# download pae data for proteins\n",
    "# SLOW THE FIRST TIME\n",
    "valid_proteins_pae, invalid_proteins_pae, existing_proteins_pae = download_alphafold_pae(\n",
    "    proteins=uniprotIDs,\n",
    "    out_folder=pae_dir, \n",
    ")"
   ]
  },
  {
   "cell_type": "markdown",
   "metadata": {},
   "source": [
    "## Construct Alphafold Dataframe (Calculate Accessibilities) - MsrB2KD"
   ]
  },
  {
   "cell_type": "code",
   "execution_count": null,
   "metadata": {},
   "outputs": [],
   "source": [
    "# format alphafold data into dataframe\n",
    "alphafold_annotation_MsrB2KD = format_alphafold_data(\n",
    "    directory=cif_dir, \n",
    "    protein_ids=uniprotIDs)\n",
    "alphafold_annotation_MsrB2KD"
   ]
  },
  {
   "cell_type": "code",
   "execution_count": null,
   "metadata": {},
   "outputs": [],
   "source": [
    "# calculate full sphere exposure -> radius = 2\n",
    "exposure_sphere_rad2 = annotate_accessibility(\n",
    "    df=alphafold_annotation_MsrB2KD, \n",
    "    max_dist=2, \n",
    "    max_angle=180, \n",
    "    error_dir=pae_dir)\n",
    "exposure_sphere_rad2;"
   ]
  },
  {
   "cell_type": "code",
   "execution_count": null,
   "metadata": {},
   "outputs": [],
   "source": [
    "alphafold_accessibility_MsrB2KD = alphafold_annotation_MsrB2KD.merge(\n",
    "    exposure_sphere_rad2, how='left', on=['protein_id','AA','position'])\n",
    "alphafold_accessibility_MsrB2KD;"
   ]
  },
  {
   "cell_type": "code",
   "execution_count": null,
   "metadata": {},
   "outputs": [],
   "source": [
    "# calculate full sphere exposure -> radius = 3\n",
    "exposure_sphere_rad3 = annotate_accessibility(\n",
    "    df=alphafold_annotation_MsrB2KD, \n",
    "    max_dist=3, \n",
    "    max_angle=180, \n",
    "    error_dir=pae_dir)\n",
    "exposure_sphere_rad3;"
   ]
  },
  {
   "cell_type": "code",
   "execution_count": null,
   "metadata": {},
   "outputs": [],
   "source": [
    "alphafold_accessibility_MsrB2KD = alphafold_accessibility_MsrB2KD.merge(\n",
    "    exposure_sphere_rad3, how='left', on=['protein_id','AA','position'])\n",
    "alphafold_accessibility_MsrB2KD;"
   ]
  },
  {
   "cell_type": "code",
   "execution_count": null,
   "metadata": {},
   "outputs": [],
   "source": [
    "# calculate full sphere exposure -> radius = 4\n",
    "exposure_sphere_rad4 = annotate_accessibility(\n",
    "    df=alphafold_annotation_MsrB2KD, \n",
    "    max_dist=4, \n",
    "    max_angle=180, \n",
    "    error_dir=pae_dir)\n",
    "exposure_sphere_rad4;"
   ]
  },
  {
   "cell_type": "code",
   "execution_count": null,
   "metadata": {},
   "outputs": [],
   "source": [
    "alphafold_accessibility_MsrB2KD = alphafold_accessibility_MsrB2KD.merge(\n",
    "    exposure_sphere_rad4, how='left', on=['protein_id','AA','position'])\n",
    "alphafold_accessibility_MsrB2KD;"
   ]
  },
  {
   "cell_type": "code",
   "execution_count": null,
   "metadata": {},
   "outputs": [],
   "source": [
    "# calculate full sphere exposure -> radius = 4.5\n",
    "exposure_sphere_rad4_5 = annotate_accessibility(\n",
    "    df=alphafold_annotation_MsrB2KD, \n",
    "    max_dist=4.5, \n",
    "    max_angle=180, \n",
    "    error_dir=pae_dir)\n",
    "exposure_sphere_rad4_5;"
   ]
  },
  {
   "cell_type": "code",
   "execution_count": null,
   "metadata": {},
   "outputs": [],
   "source": [
    "alphafold_accessibility_MsrB2KD = alphafold_accessibility_MsrB2KD.merge(\n",
    "    exposure_sphere_rad4_5, how='left', on=['protein_id','AA','position'])\n",
    "alphafold_accessibility_MsrB2KD;"
   ]
  },
  {
   "cell_type": "code",
   "execution_count": null,
   "metadata": {},
   "outputs": [],
   "source": [
    "# calculate full sphere exposure -> radius = 5\n",
    "exposure_sphere_rad5 = annotate_accessibility(\n",
    "    df=alphafold_annotation_MsrB2KD, \n",
    "    max_dist=5, \n",
    "    max_angle=180, \n",
    "    error_dir=pae_dir)\n",
    "exposure_sphere_rad5;"
   ]
  },
  {
   "cell_type": "code",
   "execution_count": null,
   "metadata": {},
   "outputs": [],
   "source": [
    "alphafold_accessibility_MsrB2KD = alphafold_accessibility_MsrB2KD.merge(\n",
    "    exposure_sphere_rad5, how='left', on=['protein_id','AA','position'])\n",
    "alphafold_accessibility_MsrB2KD;"
   ]
  },
  {
   "cell_type": "code",
   "execution_count": null,
   "metadata": {},
   "outputs": [],
   "source": [
    "# calculate full sphere exposure -> radius = 5.5\n",
    "exposure_sphere_rad5_5 = annotate_accessibility(\n",
    "    df=alphafold_annotation_MsrB2KD, \n",
    "    max_dist=5.5, \n",
    "    max_angle=180, \n",
    "    error_dir=pae_dir)\n",
    "exposure_sphere_rad5_5;"
   ]
  },
  {
   "cell_type": "code",
   "execution_count": null,
   "metadata": {},
   "outputs": [],
   "source": [
    "alphafold_accessibility_MsrB2KD = alphafold_accessibility_MsrB2KD.merge(\n",
    "    exposure_sphere_rad5_5, how='left', on=['protein_id','AA','position'])\n",
    "alphafold_accessibility_MsrB2KD;"
   ]
  },
  {
   "cell_type": "code",
   "execution_count": null,
   "metadata": {},
   "outputs": [],
   "source": [
    "# calculate full sphere exposure -> radius = 6\n",
    "exposure_sphere_rad6 = annotate_accessibility(\n",
    "    df=alphafold_annotation_MsrB2KD, \n",
    "    max_dist=6, \n",
    "    max_angle=180, \n",
    "    error_dir=pae_dir)\n",
    "exposure_sphere_rad6;"
   ]
  },
  {
   "cell_type": "code",
   "execution_count": null,
   "metadata": {},
   "outputs": [],
   "source": [
    "alphafold_accessibility_MsrB2KD = alphafold_accessibility_MsrB2KD.merge(\n",
    "    exposure_sphere_rad6, how='left', on=['protein_id','AA','position'])\n",
    "alphafold_accessibility_MsrB2KD;"
   ]
  },
  {
   "cell_type": "code",
   "execution_count": null,
   "metadata": {},
   "outputs": [],
   "source": [
    "# calculate full sphere exposure -> radius = 6.5\n",
    "exposure_sphere_rad6_5 = annotate_accessibility(\n",
    "    df=alphafold_annotation_MsrB2KD, \n",
    "    max_dist=6.5, \n",
    "    max_angle=180, \n",
    "    error_dir=pae_dir)\n",
    "exposure_sphere_rad6_5;"
   ]
  },
  {
   "cell_type": "code",
   "execution_count": null,
   "metadata": {},
   "outputs": [],
   "source": [
    "alphafold_accessibility_MsrB2KD = alphafold_accessibility_MsrB2KD.merge(\n",
    "    exposure_sphere_rad6_5, how='left', on=['protein_id','AA','position'])\n",
    "alphafold_accessibility_MsrB2KD;"
   ]
  },
  {
   "cell_type": "code",
   "execution_count": null,
   "metadata": {},
   "outputs": [],
   "source": [
    "# calculate full sphere exposure -> radius = 7\n",
    "exposure_sphere_rad7 = annotate_accessibility(\n",
    "    df=alphafold_annotation_MsrB2KD, \n",
    "    max_dist=7, \n",
    "    max_angle=180, \n",
    "    error_dir=pae_dir)\n",
    "exposure_sphere_rad7;"
   ]
  },
  {
   "cell_type": "code",
   "execution_count": null,
   "metadata": {},
   "outputs": [],
   "source": [
    "alphafold_accessibility_MsrB2KD = alphafold_accessibility_MsrB2KD.merge(\n",
    "    exposure_sphere_rad7, how='left', on=['protein_id','AA','position'])\n",
    "alphafold_accessibility_MsrB2KD;"
   ]
  },
  {
   "cell_type": "code",
   "execution_count": null,
   "metadata": {},
   "outputs": [],
   "source": [
    "# calculate full sphere exposure -> radius = 7.5\n",
    "exposure_sphere_rad7_5 = annotate_accessibility(\n",
    "    df=alphafold_annotation_MsrB2KD, \n",
    "    max_dist=7.5, \n",
    "    max_angle=180, \n",
    "    error_dir=pae_dir)\n",
    "exposure_sphere_rad7_5;"
   ]
  },
  {
   "cell_type": "code",
   "execution_count": null,
   "metadata": {},
   "outputs": [],
   "source": [
    "alphafold_accessibility_MsrB2KD = alphafold_accessibility_MsrB2KD.merge(\n",
    "    exposure_sphere_rad7_5, how='left', on=['protein_id','AA','position'])\n",
    "alphafold_accessibility_MsrB2KD;"
   ]
  },
  {
   "cell_type": "code",
   "execution_count": null,
   "metadata": {},
   "outputs": [],
   "source": [
    "# calculate full sphere exposure -> radius = 8\n",
    "exposure_sphere_rad8 = annotate_accessibility(\n",
    "    df=alphafold_annotation_MsrB2KD, \n",
    "    max_dist=8, \n",
    "    max_angle=180, \n",
    "    error_dir=pae_dir)\n",
    "exposure_sphere_rad8;"
   ]
  },
  {
   "cell_type": "code",
   "execution_count": null,
   "metadata": {},
   "outputs": [],
   "source": [
    "alphafold_accessibility_MsrB2KD = alphafold_accessibility_MsrB2KD.merge(\n",
    "    exposure_sphere_rad8, how='left', on=['protein_id','AA','position'])\n",
    "alphafold_accessibility_MsrB2KD;"
   ]
  },
  {
   "cell_type": "code",
   "execution_count": null,
   "metadata": {},
   "outputs": [],
   "source": [
    "# calculate full sphere exposure -> radius = 12\n",
    "exposure_sphere_rad12 = annotate_accessibility(\n",
    "    df=alphafold_annotation_MsrB2KD, \n",
    "    max_dist=12, \n",
    "    max_angle=180, \n",
    "    error_dir=pae_dir)\n",
    "exposure_sphere_rad12;"
   ]
  },
  {
   "cell_type": "code",
   "execution_count": null,
   "metadata": {},
   "outputs": [],
   "source": [
    "alphafold_accessibility_MsrB2KD = alphafold_accessibility_MsrB2KD.merge(\n",
    "    exposure_sphere_rad12, how='left', on=['protein_id','AA','position'])\n",
    "alphafold_accessibility_MsrB2KD;"
   ]
  },
  {
   "cell_type": "code",
   "execution_count": null,
   "metadata": {},
   "outputs": [],
   "source": [
    "# calculate full sphere exposure -> radius = 18\n",
    "exposure_sphere_rad18 = annotate_accessibility(\n",
    "    df=alphafold_annotation_MsrB2KD, \n",
    "    max_dist=18, \n",
    "    max_angle=180, \n",
    "    error_dir=pae_dir)\n",
    "exposure_sphere_rad18;"
   ]
  },
  {
   "cell_type": "code",
   "execution_count": null,
   "metadata": {},
   "outputs": [],
   "source": [
    "alphafold_accessibility_MsrB2KD = alphafold_accessibility_MsrB2KD.merge(\n",
    "    exposure_sphere_rad18, how='left', on=['protein_id','AA','position'])\n",
    "alphafold_accessibility_MsrB2KD;"
   ]
  },
  {
   "cell_type": "code",
   "execution_count": null,
   "metadata": {},
   "outputs": [],
   "source": [
    "# calculate full sphere exposure -> radius = 24\n",
    "exposure_sphere_rad24 = annotate_accessibility(\n",
    "    df=alphafold_annotation_MsrB2KD, \n",
    "    max_dist=24, \n",
    "    max_angle=180, \n",
    "    error_dir=pae_dir)\n",
    "exposure_sphere_rad24;"
   ]
  },
  {
   "cell_type": "code",
   "execution_count": null,
   "metadata": {},
   "outputs": [],
   "source": [
    "alphafold_accessibility_MsrB2KD = alphafold_accessibility_MsrB2KD.merge(\n",
    "    exposure_sphere_rad24, how='left', on=['protein_id','AA','position'])\n",
    "alphafold_accessibility_MsrB2KD;"
   ]
  },
  {
   "cell_type": "code",
   "execution_count": null,
   "metadata": {},
   "outputs": [],
   "source": [
    "# calculate part sphere exposure -> angle = 70, radius = 12\n",
    "exposure_ang70_rad12 = annotate_accessibility(\n",
    "    df=alphafold_annotation_MsrB2KD, \n",
    "    max_dist=12, \n",
    "    max_angle=70, \n",
    "    error_dir=pae_dir)\n",
    "exposure_ang70_rad12;"
   ]
  },
  {
   "cell_type": "code",
   "execution_count": null,
   "metadata": {},
   "outputs": [],
   "source": [
    "alphafold_accessibility_MsrB2KD = alphafold_accessibility_MsrB2KD.merge(\n",
    "    exposure_ang70_rad12, how='left', on=['protein_id','AA','position'])\n",
    "alphafold_accessibility_MsrB2KD"
   ]
  },
  {
   "cell_type": "code",
   "execution_count": null,
   "metadata": {},
   "outputs": [],
   "source": [
    "alphafold_accessibility_MsrB2KD.columns"
   ]
  },
  {
   "cell_type": "code",
   "execution_count": null,
   "metadata": {},
   "outputs": [],
   "source": [
    "alphafold_accessibility_MsrB2KD_smooth = get_smooth_score(\n",
    "    alphafold_accessibility_MsrB2KD, \n",
    "    np.array(['nAA_2_180_pae', 'nAA_3_180_pae', 'nAA_4_180_pae', 'nAA_4.5_180_pae', 'nAA_5_180_pae', 'nAA_5.5_180_pae', 'nAA_6_180_pae', 'nAA_6.5_180_pae', 'nAA_7_180_pae', 'nAA_7.5_180_pae', 'nAA_8_180_pae','nAA_12_180_pae', 'nAA_18_180_pae', 'nAA_24_180_pae', 'nAA_12_70_pae']), \n",
    "    [10])\n",
    "alphafold_accessibility_MsrB2KD_smooth;"
   ]
  },
  {
   "cell_type": "code",
   "execution_count": null,
   "metadata": {},
   "outputs": [],
   "source": [
    "alphafold_accessibility_MsrB2KD_smooth['IDR'] = np.where(\n",
    "    alphafold_accessibility_MsrB2KD_smooth['nAA_24_180_pae_smooth10']<=34.27, 1, 0)\n",
    "alphafold_accessibility_MsrB2KD_smooth"
   ]
  },
  {
   "cell_type": "code",
   "execution_count": null,
   "metadata": {},
   "outputs": [],
   "source": [
    "alphafold_accessibility_MsrB2KD_smooth.columns"
   ]
  },
  {
   "cell_type": "markdown",
   "metadata": {},
   "source": [
    "# Merge Dataframes into Full Dataset (Includes Alphafold) - MsrB2KD"
   ]
  },
  {
   "cell_type": "code",
   "execution_count": null,
   "metadata": {},
   "outputs": [],
   "source": [
    "alphafold_accessibility_MsrB2KD_smooth[\"position\"] = alphafold_accessibility_MsrB2KD_smooth[\"position\"] - 1 # zero-index the positions to match initial dataframe\n",
    "\n",
    "peptides_with_alphafold = peptides_completed_sequence.merge(\n",
    "    alphafold_accessibility_MsrB2KD_smooth, \n",
    "    how=\"left\", \n",
    "    left_on=[\"Protein ID\", \"Methionine Location\"], \n",
    "    right_on=[\"protein_id\", \"position\"]\n",
    ")\n",
    "peptides_with_alphafold"
   ]
  },
  {
   "cell_type": "code",
   "execution_count": null,
   "metadata": {},
   "outputs": [],
   "source": [
    "#peptides_with_alphafold.to_csv(os.path.join(curr_dir_path, \"MsrB2KD_with_alphafold.csv\"))"
   ]
  },
  {
   "cell_type": "code",
   "execution_count": null,
   "metadata": {},
   "outputs": [],
   "source": [
    "path = os.path.join(curr_dir_path, \"MsrB2KD_with_alphafold.csv\")\n",
    "peptides_with_alphafold = pd.read_csv(path)\n",
    "peptides_with_alphafold.set_index(\"Unnamed: 0\", inplace=True)\n",
    "peptides_with_alphafold.index.name = None\n",
    "peptides_with_alphafold"
   ]
  },
  {
   "cell_type": "markdown",
   "metadata": {},
   "source": [
    "# The End (For Now)"
   ]
  }
 ],
 "metadata": {
  "kernelspec": {
   "display_name": "methionine-analysis-env",
   "language": "python",
   "name": "python3"
  },
  "language_info": {
   "codemirror_mode": {
    "name": "ipython",
    "version": 3
   },
   "file_extension": ".py",
   "mimetype": "text/x-python",
   "name": "python",
   "nbconvert_exporter": "python",
   "pygments_lexer": "ipython3",
   "version": "3.9.18"
  }
 },
 "nbformat": 4,
 "nbformat_minor": 2
}
